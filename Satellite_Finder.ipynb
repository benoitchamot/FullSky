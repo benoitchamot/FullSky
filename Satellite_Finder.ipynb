{
 "cells": [
  {
   "cell_type": "markdown",
   "metadata": {},
   "source": [
    "# Examples with SGP4 library\n",
    "Source: https://pypi.org/project/sgp4/ <br/>\n",
    "Source: https://docs.astropy.org/en/stable/coordinates/satellites.html\n",
    "\n",
    "Installation: `pip install sgp4`"
   ]
  },
  {
   "cell_type": "code",
   "execution_count": 1,
   "metadata": {},
   "outputs": [],
   "source": [
    "%load_ext autoreload\n",
    "%autoreload 2"
   ]
  },
  {
   "cell_type": "code",
   "execution_count": 2,
   "metadata": {},
   "outputs": [],
   "source": [
    "from sgp4.api import Satrec\n",
    "from sys import stdout\n",
    "from sgp4.conveniences import dump_satrec\n",
    "from astropy.time import Time\n",
    "from sgp4.api import SGP4_ERRORS\n",
    "from astropy.coordinates import TEME, ITRS, CartesianDifferential, CartesianRepresentation\n",
    "from astropy import units as u\n",
    "import requests\n",
    "import pandas as pd\n",
    "import configparser\n",
    "from astropy.coordinates import EarthLocation, AltAz\n",
    "import matplotlib.pyplot as plt\n",
    "import seaborn as sns\n",
    "import numpy as np\n",
    "import datetime\n",
    "from datetime import datetime as dt\n",
    "import plotly.express as px"
   ]
  },
  {
   "cell_type": "code",
   "execution_count": 7,
   "metadata": {},
   "outputs": [],
   "source": [
    "# Import local module\n",
    "import TLE"
   ]
  },
  {
   "cell_type": "code",
   "execution_count": 9,
   "metadata": {},
   "outputs": [
    {
     "name": "stdout",
     "output_type": "stream",
     "text": [
      "/class/gp/orderby/OBJECT_ID%20asc/emptyresult/show\n",
      "<Response [200]>\n",
      "<Response [200]>\n"
     ]
    }
   ],
   "source": [
    "objects_df, tle_df = TLE.get_latest_tle()"
   ]
  },
  {
   "cell_type": "markdown",
   "metadata": {},
   "source": [
    "## Get latest TLE from the ISS"
   ]
  },
  {
   "cell_type": "markdown",
   "metadata": {},
   "source": [
    "### Step 1: get all TLE from Space-Track to update local database"
   ]
  },
  {
   "cell_type": "code",
   "execution_count": 11,
   "metadata": {},
   "outputs": [
    {
     "data": {
      "text/html": [
       "<div>\n",
       "<style scoped>\n",
       "    .dataframe tbody tr th:only-of-type {\n",
       "        vertical-align: middle;\n",
       "    }\n",
       "\n",
       "    .dataframe tbody tr th {\n",
       "        vertical-align: top;\n",
       "    }\n",
       "\n",
       "    .dataframe thead th {\n",
       "        text-align: right;\n",
       "    }\n",
       "</style>\n",
       "<table border=\"1\" class=\"dataframe\">\n",
       "  <thead>\n",
       "    <tr style=\"text-align: right;\">\n",
       "      <th></th>\n",
       "      <th>OBJECT_ID</th>\n",
       "      <th>OBJECT_NAME</th>\n",
       "      <th>TLE_LINE0</th>\n",
       "      <th>TLE_LINE1</th>\n",
       "      <th>TLE_LINE2</th>\n",
       "    </tr>\n",
       "  </thead>\n",
       "  <tbody>\n",
       "    <tr>\n",
       "      <th>0</th>\n",
       "      <td>1958-001A</td>\n",
       "      <td>EXPLORER 1</td>\n",
       "      <td>0 EXPLORER 1</td>\n",
       "      <td>1 00004U 58001  A 70090.03500497  .07718844 +0...</td>\n",
       "      <td>2 00004 033.1468 334.6171 0024739 311.5310 048...</td>\n",
       "    </tr>\n",
       "    <tr>\n",
       "      <th>1</th>\n",
       "      <td>1958-002A</td>\n",
       "      <td>VANGUARD R/B</td>\n",
       "      <td>0 VANGUARD R/B</td>\n",
       "      <td>1 00016U 58002A   24077.49449400  .00000612  0...</td>\n",
       "      <td>2 00016  34.2742 161.1413 2024305 251.0406  86...</td>\n",
       "    </tr>\n",
       "    <tr>\n",
       "      <th>2</th>\n",
       "      <td>1958-002B</td>\n",
       "      <td>VANGUARD 1</td>\n",
       "      <td>0 VANGUARD 1</td>\n",
       "      <td>1 00005U 58002B   24076.04519752  .00000594  0...</td>\n",
       "      <td>2 00005  34.2462 334.3501 1840115  28.0389 340...</td>\n",
       "    </tr>\n",
       "    <tr>\n",
       "      <th>3</th>\n",
       "      <td>1958-002C</td>\n",
       "      <td>VANGUARD DEB</td>\n",
       "      <td>0 VANGUARD DEB</td>\n",
       "      <td>1  1576U 58002C   24077.73964683  .00001321  0...</td>\n",
       "      <td>2  1576  34.2296 219.7747 1428880 329.3506  23...</td>\n",
       "    </tr>\n",
       "    <tr>\n",
       "      <th>4</th>\n",
       "      <td>1958-004B</td>\n",
       "      <td>SPUTNIK 3</td>\n",
       "      <td>0 SPUTNIK 3</td>\n",
       "      <td>1 00008U 58004  B 60095.16166626  .02607090 +0...</td>\n",
       "      <td>2 00008 065.0599 163.5585 0088318 135.6760 224...</td>\n",
       "    </tr>\n",
       "    <tr>\n",
       "      <th>...</th>\n",
       "      <td>...</td>\n",
       "      <td>...</td>\n",
       "      <td>...</td>\n",
       "      <td>...</td>\n",
       "      <td>...</td>\n",
       "    </tr>\n",
       "    <tr>\n",
       "      <th>57823</th>\n",
       "      <td>UNKNOWN</td>\n",
       "      <td>TBA - TO BE ASSIGNED</td>\n",
       "      <td>0 TBA - TO BE ASSIGNED</td>\n",
       "      <td>1 81552U          24076.23945651 +.00001017 +0...</td>\n",
       "      <td>2 81552  99.0196  86.6439 0267443 104.2226 258...</td>\n",
       "    </tr>\n",
       "    <tr>\n",
       "      <th>57824</th>\n",
       "      <td>UNKNOWN</td>\n",
       "      <td>TBA - TO BE ASSIGNED</td>\n",
       "      <td>0 TBA - TO BE ASSIGNED</td>\n",
       "      <td>1 T0194U          24074.26645375  .00001448  0...</td>\n",
       "      <td>2 T0194 100.4558 275.0290 0051653 175.6828 184...</td>\n",
       "    </tr>\n",
       "    <tr>\n",
       "      <th>57825</th>\n",
       "      <td>UNKNOWN</td>\n",
       "      <td>TBA - TO BE ASSIGNED</td>\n",
       "      <td>0 TBA - TO BE ASSIGNED</td>\n",
       "      <td>1 89038U          19131.01706766 +.00169888 +0...</td>\n",
       "      <td>2 89038 098.8912 147.7329 0005786 040.6268 319...</td>\n",
       "    </tr>\n",
       "    <tr>\n",
       "      <th>57826</th>\n",
       "      <td>UNKNOWN</td>\n",
       "      <td>TBA - TO BE ASSIGNED</td>\n",
       "      <td>0 TBA - TO BE ASSIGNED</td>\n",
       "      <td>1 85246U          24077.60597096 +.00001227 +0...</td>\n",
       "      <td>2 85246  98.0408 134.5709 0232190  12.1320 348...</td>\n",
       "    </tr>\n",
       "    <tr>\n",
       "      <th>57827</th>\n",
       "      <td>UNKNOWN</td>\n",
       "      <td>TBA - TO BE ASSIGNED</td>\n",
       "      <td>0 TBA - TO BE ASSIGNED</td>\n",
       "      <td>1 81546U          23214.35228721 +.00758630 +0...</td>\n",
       "      <td>2 81546  66.7774  83.8128 0028412 234.2620 125...</td>\n",
       "    </tr>\n",
       "  </tbody>\n",
       "</table>\n",
       "<p>57828 rows × 5 columns</p>\n",
       "</div>"
      ],
      "text/plain": [
       "       OBJECT_ID           OBJECT_NAME               TLE_LINE0  \\\n",
       "0      1958-001A            EXPLORER 1            0 EXPLORER 1   \n",
       "1      1958-002A          VANGUARD R/B          0 VANGUARD R/B   \n",
       "2      1958-002B            VANGUARD 1            0 VANGUARD 1   \n",
       "3      1958-002C          VANGUARD DEB          0 VANGUARD DEB   \n",
       "4      1958-004B             SPUTNIK 3             0 SPUTNIK 3   \n",
       "...          ...                   ...                     ...   \n",
       "57823    UNKNOWN  TBA - TO BE ASSIGNED  0 TBA - TO BE ASSIGNED   \n",
       "57824    UNKNOWN  TBA - TO BE ASSIGNED  0 TBA - TO BE ASSIGNED   \n",
       "57825    UNKNOWN  TBA - TO BE ASSIGNED  0 TBA - TO BE ASSIGNED   \n",
       "57826    UNKNOWN  TBA - TO BE ASSIGNED  0 TBA - TO BE ASSIGNED   \n",
       "57827    UNKNOWN  TBA - TO BE ASSIGNED  0 TBA - TO BE ASSIGNED   \n",
       "\n",
       "                                               TLE_LINE1  \\\n",
       "0      1 00004U 58001  A 70090.03500497  .07718844 +0...   \n",
       "1      1 00016U 58002A   24077.49449400  .00000612  0...   \n",
       "2      1 00005U 58002B   24076.04519752  .00000594  0...   \n",
       "3      1  1576U 58002C   24077.73964683  .00001321  0...   \n",
       "4      1 00008U 58004  B 60095.16166626  .02607090 +0...   \n",
       "...                                                  ...   \n",
       "57823  1 81552U          24076.23945651 +.00001017 +0...   \n",
       "57824  1 T0194U          24074.26645375  .00001448  0...   \n",
       "57825  1 89038U          19131.01706766 +.00169888 +0...   \n",
       "57826  1 85246U          24077.60597096 +.00001227 +0...   \n",
       "57827  1 81546U          23214.35228721 +.00758630 +0...   \n",
       "\n",
       "                                               TLE_LINE2  \n",
       "0      2 00004 033.1468 334.6171 0024739 311.5310 048...  \n",
       "1      2 00016  34.2742 161.1413 2024305 251.0406  86...  \n",
       "2      2 00005  34.2462 334.3501 1840115  28.0389 340...  \n",
       "3      2  1576  34.2296 219.7747 1428880 329.3506  23...  \n",
       "4      2 00008 065.0599 163.5585 0088318 135.6760 224...  \n",
       "...                                                  ...  \n",
       "57823  2 81552  99.0196  86.6439 0267443 104.2226 258...  \n",
       "57824  2 T0194 100.4558 275.0290 0051653 175.6828 184...  \n",
       "57825  2 89038 098.8912 147.7329 0005786 040.6268 319...  \n",
       "57826  2 85246  98.0408 134.5709 0232190  12.1320 348...  \n",
       "57827  2 81546  66.7774  83.8128 0028412 234.2620 125...  \n",
       "\n",
       "[57828 rows x 5 columns]"
      ]
     },
     "execution_count": 11,
     "metadata": {},
     "output_type": "execute_result"
    }
   ],
   "source": [
    "tle_df"
   ]
  },
  {
   "cell_type": "markdown",
   "metadata": {},
   "source": [
    "### Step 2: Create satellite objects using SGP4"
   ]
  },
  {
   "cell_type": "code",
   "execution_count": 78,
   "metadata": {},
   "outputs": [],
   "source": [
    "def create_satrec_objects(tle_df):\n",
    "# Args: tle_df (DataFrame)\n",
    "# Output: dictionary with id, name and satellite object to use with sgp4\n",
    "\n",
    "\n",
    "    # Initialise empty list\n",
    "    orbital_objects = []\n",
    "\n",
    "    for i, row in tle_df.iterrows():\n",
    "        # Retrieve the object name\n",
    "        object_id = row['OBJECT_ID']\n",
    "        object_name = row['OBJECT_NAME']\n",
    "\n",
    "        # Retrieve the TLE from the DataFrame row\n",
    "        tle_l1 = row['TLE_LINE1']\n",
    "        tle_l2 = row['TLE_LINE2']\n",
    "\n",
    "        # Group data in a dictionary\n",
    "        object_dict = {\n",
    "            'id': object_id,\n",
    "            'name': object_name,\n",
    "            'satrec': Satrec.twoline2rv(tle_l1, tle_l2)\n",
    "        }\n",
    "\n",
    "        # Append dictionary to list of tracked objects\n",
    "        orbital_objects.append(object_dict)\n",
    "\n",
    "    # Print the number of objects created (list length)\n",
    "    print(f\"{len(orbital_objects)} objects created from TLE\")\n",
    "\n",
    "    return orbital_objects"
   ]
  },
  {
   "cell_type": "code",
   "execution_count": 13,
   "metadata": {},
   "outputs": [],
   "source": [
    "def calculate_position(satellite, t, obs_station, verbose=False):\n",
    "\n",
    "    # Calculate position and velocity with sgp4\n",
    "    error_code, teme_p, teme_v = satellite.sgp4(t.jd1, t.jd2) # non-zero error code if the satellite position could not be computed for the given date.\n",
    "\n",
    "    if error_code != 0:\n",
    "        print(f\"Error: {SGP4_ERRORS[error_code]}\")\n",
    "    else:\n",
    "        if verbose:\n",
    "            print('No error')\n",
    "\n",
    "            # teme_p measures the satellite position in kilometers from the center of the earth in the\n",
    "            # idiosyncratic True Equator Mean Equinox coordinate frame used by SGP4.\n",
    "            print(f\"Position [True Equator Mean Equinox]: {teme_p} (km)\")\n",
    "\n",
    "            # teme_v velocity is the rate at which the position is changing, expressed in kilometers\n",
    "            # per second.\n",
    "            print(f\"Velocity [True Equator Mean Equinox]: {teme_v} (km/s)\")\n",
    "\n",
    "        # Convert from TEME to Other Coordinate Systems\n",
    "        teme_p = CartesianRepresentation(teme_p*u.km)\n",
    "        teme_v = CartesianDifferential(teme_v*u.km/u.s)\n",
    "\n",
    "        # Note how we are careful to set the observed time of the TEME\n",
    "        # frame to the time at which we calculated satellite position.\n",
    "        teme = TEME(teme_p.with_differentials(teme_v), obstime=t)\n",
    "\n",
    "        # to find the overhead latitude, longitude, and height of the satellite:\n",
    "        itrs_geo = teme.transform_to(ITRS(obstime=t))\n",
    "        itrs_geo = teme.transform_to(ITRS(obstime=t))\n",
    "        location = itrs_geo.earth_location\n",
    "        # to find the altitude and azimuth of the satellite from a particular location\n",
    "        topo_itrs_repr = itrs_geo.cartesian.without_differentials() - obs_station.get_itrs(t).cartesian\n",
    "        itrs_topo = ITRS(topo_itrs_repr, obstime = t, location=obs_station)\n",
    "        aa = itrs_topo.transform_to(AltAz(obstime=t, location=obs_station))\n",
    "        \n",
    "        if verbose:\n",
    "            print('Altitude / Azimuth')\n",
    "            print(aa.alt.deg, aa.az.deg)\n",
    "\n",
    "        # Transform azimuth to negative values for western positions\n",
    "        if aa.az.deg <= 180:\n",
    "            azimuth = aa.az.deg\n",
    "        else:\n",
    "            azimuth = aa.az.deg - 360\n",
    "\n",
    "        satellite_1 = {\n",
    "            'name': 'ISS',\n",
    "            'alt': aa.alt.deg,\n",
    "            'az': azimuth,\n",
    "            'loc': location\n",
    "        }\n",
    "\n",
    "        return satellite_1"
   ]
  },
  {
   "cell_type": "code",
   "execution_count": 315,
   "metadata": {},
   "outputs": [
    {
     "data": {
      "text/plain": [
       "'2002-04-12T12:11:00.000000'"
      ]
     },
     "execution_count": 315,
     "metadata": {},
     "output_type": "execute_result"
    }
   ],
   "source": []
  },
  {
   "cell_type": "code",
   "execution_count": 14,
   "metadata": {},
   "outputs": [
    {
     "name": "stdout",
     "output_type": "stream",
     "text": [
      "Local Time: 2024-03-18 11:16:56.979351+11:00\n",
      "UTC Time: 2024-03-18 00:16:56.979351+00:00\n",
      "UTC Now: 2024-03-18 00:16:56.981351+00:00\n",
      "Converted to Local Time: 2024-03-18 11:16:56.981351+11:00\n"
     ]
    }
   ],
   "source": [
    "from zoneinfo import ZoneInfo\n",
    "\n",
    "# Convert local time to UTC\n",
    "local_tz = ZoneInfo(\"Australia/Sydney\")  # For example, 'America/New_York'\n",
    "local_time = dt.now(local_tz)\n",
    "utc_time = local_time.astimezone(ZoneInfo(\"UTC\"))\n",
    "\n",
    "print(\"Local Time:\", local_time)\n",
    "print(\"UTC Time:\", utc_time)\n",
    "\n",
    "# Convert UTC to local time\n",
    "utc_now = dt.now(ZoneInfo(\"UTC\"))\n",
    "local_time_converted = utc_now.astimezone(local_tz)\n",
    "\n",
    "print(\"UTC Now:\", utc_now)\n",
    "print(\"Converted to Local Time:\", local_time_converted)"
   ]
  },
  {
   "cell_type": "code",
   "execution_count": 15,
   "metadata": {},
   "outputs": [
    {
     "data": {
      "text/plain": [
       "'2024-03-18T11:16:59.451004'"
      ]
     },
     "execution_count": 15,
     "metadata": {},
     "output_type": "execute_result"
    }
   ],
   "source": [
    "dt.now().strftime(format='%Y-%m-%dT%H:%M:%S.%f')"
   ]
  },
  {
   "cell_type": "code",
   "execution_count": null,
   "metadata": {},
   "outputs": [],
   "source": []
  },
  {
   "cell_type": "code",
   "execution_count": 86,
   "metadata": {},
   "outputs": [
    {
     "name": "stdout",
     "output_type": "stream",
     "text": [
      "2 objects created from TLE\n"
     ]
    }
   ],
   "source": [
    "year = 2024\n",
    "month = 3\n",
    "day = 6\n",
    "hour = 17\n",
    "minute = 22\n",
    "second = 22\n",
    "\n",
    "# Convert datetime to JD\n",
    "# nominal_time = '2024-03-06T05:55:00.123456789'\n",
    "nominal_time = dt(year, month, day, hour, minute, second)\n",
    "nominal_time_str = nominal_time.strftime(format='%Y-%m-%dT%H:%M:%S.%f')\n",
    "t = Time(nominal_time_str, format='isot', scale='utc')\n",
    "\n",
    "# Provide the address of the observation station\n",
    "address = '4 Ormond Road, Ormond, Vic 3204, Australia'\n",
    "obs_station = EarthLocation.of_address(address)\n",
    "\n",
    "# Find the objects by name\n",
    "search_item = 'QB50P'\n",
    "response_rows = tle_df.loc[tle_df['OBJECT_NAME'].str.contains(search_item, case=False)]\n",
    "orbital_objects = create_satrec_objects(response_rows)\n",
    "\n",
    "# Calculate the updated positions of each of the object\n",
    "for obj in orbital_objects:\n",
    "    object = obj['satrec']\n",
    "    obj['new_position'] = calculate_position(object, t, obs_station)\n",
    "    obj['nominal_time'] = nominal_time"
   ]
  },
  {
   "cell_type": "code",
   "execution_count": 85,
   "metadata": {},
   "outputs": [
    {
     "data": {
      "text/plain": [
       "[{'id': '2014-033R',\n",
       "  'name': 'QB50P1',\n",
       "  'satrec': <sgp4.wrapper.Satrec at 0x18289e68000>,\n",
       "  'new_position': {'name': 'ISS',\n",
       "   'alt': -40.38227710553407,\n",
       "   'az': -176.8017649409137,\n",
       "   'loc': <EarthLocation (3435.9691188, -1927.0804219, -5747.41169332) km>},\n",
       "  'nominal_time': datetime.datetime(2024, 3, 6, 17, 22, 22)},\n",
       " {'id': '2014-033Y',\n",
       "  'name': 'QB50P2',\n",
       "  'satrec': <sgp4.wrapper.Satrec at 0x18289e68820>,\n",
       "  'new_position': {'name': 'ISS',\n",
       "   'alt': -1.101646876282712,\n",
       "   'az': -40.25080657729774,\n",
       "   'loc': <EarthLocation (-4134.79641632, 5179.93228637, -2113.80300751) km>},\n",
       "  'nominal_time': datetime.datetime(2024, 3, 6, 17, 22, 22)}]"
      ]
     },
     "execution_count": 85,
     "metadata": {},
     "output_type": "execute_result"
    }
   ],
   "source": [
    "orbital_objects"
   ]
  },
  {
   "cell_type": "code",
   "execution_count": 92,
   "metadata": {},
   "outputs": [
    {
     "data": {
      "text/plain": [
       "-29.28610511110128"
      ]
     },
     "execution_count": 92,
     "metadata": {},
     "output_type": "execute_result"
    }
   ],
   "source": [
    "orbital_objects[0]"
   ]
  },
  {
   "cell_type": "code",
   "execution_count": 115,
   "metadata": {},
   "outputs": [],
   "source": [
    "# Group the object information in lists\n",
    "list_lon = [obj['new_position']['loc'].lon.deg for obj in orbital_objects]\n",
    "list_lat = [obj['new_position']['loc'].lat.deg for obj in orbital_objects]\n",
    "list_name = [obj['name'] for obj in orbital_objects]\n",
    "\n",
    "# Create a DataFrame with the location of all the tracked objects\n",
    "obs_df = pd.DataFrame({\n",
    "    'longitude': list_lon,\n",
    "    'latitude': list_lat,\n",
    "    'type': len(list_name)*['Satellite'],\n",
    "    'name': list_name\n",
    "})\n",
    "\n",
    "# Add the ground station to the DataFrame\n",
    "obs_df.loc[len(obs_df.index)] = {\n",
    "    'longitude': obs_station.lon.deg,\n",
    "    'latitude': obs_station.lat.deg,\n",
    "    'type': 'Ground Station',\n",
    "    'name': 'Home'\n",
    "}"
   ]
  },
  {
   "cell_type": "code",
   "execution_count": 116,
   "metadata": {},
   "outputs": [
    {
     "data": {
      "text/html": [
       "<div>\n",
       "<style scoped>\n",
       "    .dataframe tbody tr th:only-of-type {\n",
       "        vertical-align: middle;\n",
       "    }\n",
       "\n",
       "    .dataframe tbody tr th {\n",
       "        vertical-align: top;\n",
       "    }\n",
       "\n",
       "    .dataframe thead th {\n",
       "        text-align: right;\n",
       "    }\n",
       "</style>\n",
       "<table border=\"1\" class=\"dataframe\">\n",
       "  <thead>\n",
       "    <tr style=\"text-align: right;\">\n",
       "      <th></th>\n",
       "      <th>longitude</th>\n",
       "      <th>latitude</th>\n",
       "      <th>type</th>\n",
       "      <th>name</th>\n",
       "    </tr>\n",
       "  </thead>\n",
       "  <tbody>\n",
       "    <tr>\n",
       "      <th>0</th>\n",
       "      <td>-29.286105</td>\n",
       "      <td>-55.735598</td>\n",
       "      <td>Satellite</td>\n",
       "      <td>QB50P1</td>\n",
       "    </tr>\n",
       "    <tr>\n",
       "      <th>1</th>\n",
       "      <td>128.598046</td>\n",
       "      <td>-17.791280</td>\n",
       "      <td>Satellite</td>\n",
       "      <td>QB50P2</td>\n",
       "    </tr>\n",
       "    <tr>\n",
       "      <th>2</th>\n",
       "      <td>145.045098</td>\n",
       "      <td>-37.904457</td>\n",
       "      <td>Ground Station</td>\n",
       "      <td>Home</td>\n",
       "    </tr>\n",
       "  </tbody>\n",
       "</table>\n",
       "</div>"
      ],
      "text/plain": [
       "    longitude   latitude            type    name\n",
       "0  -29.286105 -55.735598       Satellite  QB50P1\n",
       "1  128.598046 -17.791280       Satellite  QB50P2\n",
       "2  145.045098 -37.904457  Ground Station    Home"
      ]
     },
     "execution_count": 116,
     "metadata": {},
     "output_type": "execute_result"
    }
   ],
   "source": [
    "obs_df"
   ]
  },
  {
   "cell_type": "code",
   "execution_count": 19,
   "metadata": {},
   "outputs": [
    {
     "data": {
      "image/png": "[encoded data removed]",
      "text/plain": [
       "<Figure size 600x300 with 1 Axes>"
      ]
     },
     "metadata": {},
     "output_type": "display_data"
    },
    {
     "data": {
      "application/vnd.plotly.v1+json": {
       "config": {
        "plotlyServerURL": "https://plot.ly"
       },
       "data": [
        {
         "hovertemplate": "latitude=%{lat}<br>longitude=%{lon}<extra></extra>",
         "lat": [
          -37.9044573,
          50.99180465094652
         ],
         "legendgroup": "",
         "lon": [
          145.0450985,
          141.3250692700034
         ],
         "marker": {
          "color": "#636efa"
         },
         "mode": "markers",
         "name": "",
         "showlegend": false,
         "subplot": "mapbox",
         "type": "scattermapbox"
        }
       ],
       "layout": {
        "height": 600,
        "legend": {
         "tracegroupgap": 0
        },
        "mapbox": {
         "bearing": 0,
         "center": {
          "lat": 0,
          "lon": 0
         },
         "domain": {
          "x": [
           0,
           1
          ],
          "y": [
           0,
           1
          ]
         },
         "pitch": 0,
         "style": "open-street-map",
         "zoom": 1.2
        },
        "margin": {
         "b": 10,
         "l": 10,
         "r": 10,
         "t": 10
        },
        "template": {
         "data": {
          "bar": [
           {
            "error_x": {
             "color": "#2a3f5f"
            },
            "error_y": {
             "color": "#2a3f5f"
            },
            "marker": {
             "line": {
              "color": "#E5ECF6",
              "width": 0.5
             },
             "pattern": {
              "fillmode": "overlay",
              "size": 10,
              "solidity": 0.2
             }
            },
            "type": "bar"
           }
          ],
          "barpolar": [
           {
            "marker": {
             "line": {
              "color": "#E5ECF6",
              "width": 0.5
             },
             "pattern": {
              "fillmode": "overlay",
              "size": 10,
              "solidity": 0.2
             }
            },
            "type": "barpolar"
           }
          ],
          "carpet": [
           {
            "aaxis": {
             "endlinecolor": "#2a3f5f",
             "gridcolor": "white",
             "linecolor": "white",
             "minorgridcolor": "white",
             "startlinecolor": "#2a3f5f"
            },
            "baxis": {
             "endlinecolor": "#2a3f5f",
             "gridcolor": "white",
             "linecolor": "white",
             "minorgridcolor": "white",
             "startlinecolor": "#2a3f5f"
            },
            "type": "carpet"
           }
          ],
          "choropleth": [
           {
            "colorbar": {
             "outlinewidth": 0,
             "ticks": ""
            },
            "type": "choropleth"
           }
          ],
          "contour": [
           {
            "colorbar": {
             "outlinewidth": 0,
             "ticks": ""
            },
            "colorscale": [
             [
              0,
              "#0d0887"
             ],
             [
              0.1111111111111111,
              "#46039f"
             ],
             [
              0.2222222222222222,
              "#7201a8"
             ],
             [
              0.3333333333333333,
              "#9c179e"
             ],
             [
              0.4444444444444444,
              "#bd3786"
             ],
             [
              0.5555555555555556,
              "#d8576b"
             ],
             [
              0.6666666666666666,
              "#ed7953"
             ],
             [
              0.7777777777777778,
              "#fb9f3a"
             ],
             [
              0.8888888888888888,
              "#fdca26"
             ],
             [
              1,
              "#f0f921"
             ]
            ],
            "type": "contour"
           }
          ],
          "contourcarpet": [
           {
            "colorbar": {
             "outlinewidth": 0,
             "ticks": ""
            },
            "type": "contourcarpet"
           }
          ],
          "heatmap": [
           {
            "colorbar": {
             "outlinewidth": 0,
             "ticks": ""
            },
            "colorscale": [
             [
              0,
              "#0d0887"
             ],
             [
              0.1111111111111111,
              "#46039f"
             ],
             [
              0.2222222222222222,
              "#7201a8"
             ],
             [
              0.3333333333333333,
              "#9c179e"
             ],
             [
              0.4444444444444444,
              "#bd3786"
             ],
             [
              0.5555555555555556,
              "#d8576b"
             ],
             [
              0.6666666666666666,
              "#ed7953"
             ],
             [
              0.7777777777777778,
              "#fb9f3a"
             ],
             [
              0.8888888888888888,
              "#fdca26"
             ],
             [
              1,
              "#f0f921"
             ]
            ],
            "type": "heatmap"
           }
          ],
          "heatmapgl": [
           {
            "colorbar": {
             "outlinewidth": 0,
             "ticks": ""
            },
            "colorscale": [
             [
              0,
              "#0d0887"
             ],
             [
              0.1111111111111111,
              "#46039f"
             ],
             [
              0.2222222222222222,
              "#7201a8"
             ],
             [
              0.3333333333333333,
              "#9c179e"
             ],
             [
              0.4444444444444444,
              "#bd3786"
             ],
             [
              0.5555555555555556,
              "#d8576b"
             ],
             [
              0.6666666666666666,
              "#ed7953"
             ],
             [
              0.7777777777777778,
              "#fb9f3a"
             ],
             [
              0.8888888888888888,
              "#fdca26"
             ],
             [
              1,
              "#f0f921"
             ]
            ],
            "type": "heatmapgl"
           }
          ],
          "histogram": [
           {
            "marker": {
             "pattern": {
              "fillmode": "overlay",
              "size": 10,
              "solidity": 0.2
             }
            },
            "type": "histogram"
           }
          ],
          "histogram2d": [
           {
            "colorbar": {
             "outlinewidth": 0,
             "ticks": ""
            },
            "colorscale": [
             [
              0,
              "#0d0887"
             ],
             [
              0.1111111111111111,
              "#46039f"
             ],
             [
              0.2222222222222222,
              "#7201a8"
             ],
             [
              0.3333333333333333,
              "#9c179e"
             ],
             [
              0.4444444444444444,
              "#bd3786"
             ],
             [
              0.5555555555555556,
              "#d8576b"
             ],
             [
              0.6666666666666666,
              "#ed7953"
             ],
             [
              0.7777777777777778,
              "#fb9f3a"
             ],
             [
              0.8888888888888888,
              "#fdca26"
             ],
             [
              1,
              "#f0f921"
             ]
            ],
            "type": "histogram2d"
           }
          ],
          "histogram2dcontour": [
           {
            "colorbar": {
             "outlinewidth": 0,
             "ticks": ""
            },
            "colorscale": [
             [
              0,
              "#0d0887"
             ],
             [
              0.1111111111111111,
              "#46039f"
             ],
             [
              0.2222222222222222,
              "#7201a8"
             ],
             [
              0.3333333333333333,
              "#9c179e"
             ],
             [
              0.4444444444444444,
              "#bd3786"
             ],
             [
              0.5555555555555556,
              "#d8576b"
             ],
             [
              0.6666666666666666,
              "#ed7953"
             ],
             [
              0.7777777777777778,
              "#fb9f3a"
             ],
             [
              0.8888888888888888,
              "#fdca26"
             ],
             [
              1,
              "#f0f921"
             ]
            ],
            "type": "histogram2dcontour"
           }
          ],
          "mesh3d": [
           {
            "colorbar": {
             "outlinewidth": 0,
             "ticks": ""
            },
            "type": "mesh3d"
           }
          ],
          "parcoords": [
           {
            "line": {
             "colorbar": {
              "outlinewidth": 0,
              "ticks": ""
             }
            },
            "type": "parcoords"
           }
          ],
          "pie": [
           {
            "automargin": true,
            "type": "pie"
           }
          ],
          "scatter": [
           {
            "fillpattern": {
             "fillmode": "overlay",
             "size": 10,
             "solidity": 0.2
            },
            "type": "scatter"
           }
          ],
          "scatter3d": [
           {
            "line": {
             "colorbar": {
              "outlinewidth": 0,
              "ticks": ""
             }
            },
            "marker": {
             "colorbar": {
              "outlinewidth": 0,
              "ticks": ""
             }
            },
            "type": "scatter3d"
           }
          ],
          "scattercarpet": [
           {
            "marker": {
             "colorbar": {
              "outlinewidth": 0,
              "ticks": ""
             }
            },
            "type": "scattercarpet"
           }
          ],
          "scattergeo": [
           {
            "marker": {
             "colorbar": {
              "outlinewidth": 0,
              "ticks": ""
             }
            },
            "type": "scattergeo"
           }
          ],
          "scattergl": [
           {
            "marker": {
             "colorbar": {
              "outlinewidth": 0,
              "ticks": ""
             }
            },
            "type": "scattergl"
           }
          ],
          "scattermapbox": [
           {
            "marker": {
             "colorbar": {
              "outlinewidth": 0,
              "ticks": ""
             }
            },
            "type": "scattermapbox"
           }
          ],
          "scatterpolar": [
           {
            "marker": {
             "colorbar": {
              "outlinewidth": 0,
              "ticks": ""
             }
            },
            "type": "scatterpolar"
           }
          ],
          "scatterpolargl": [
           {
            "marker": {
             "colorbar": {
              "outlinewidth": 0,
              "ticks": ""
             }
            },
            "type": "scatterpolargl"
           }
          ],
          "scatterternary": [
           {
            "marker": {
             "colorbar": {
              "outlinewidth": 0,
              "ticks": ""
             }
            },
            "type": "scatterternary"
           }
          ],
          "surface": [
           {
            "colorbar": {
             "outlinewidth": 0,
             "ticks": ""
            },
            "colorscale": [
             [
              0,
              "#0d0887"
             ],
             [
              0.1111111111111111,
              "#46039f"
             ],
             [
              0.2222222222222222,
              "#7201a8"
             ],
             [
              0.3333333333333333,
              "#9c179e"
             ],
             [
              0.4444444444444444,
              "#bd3786"
             ],
             [
              0.5555555555555556,
              "#d8576b"
             ],
             [
              0.6666666666666666,
              "#ed7953"
             ],
             [
              0.7777777777777778,
              "#fb9f3a"
             ],
             [
              0.8888888888888888,
              "#fdca26"
             ],
             [
              1,
              "#f0f921"
             ]
            ],
            "type": "surface"
           }
          ],
          "table": [
           {
            "cells": {
             "fill": {
              "color": "#EBF0F8"
             },
             "line": {
              "color": "white"
             }
            },
            "header": {
             "fill": {
              "color": "#C8D4E3"
             },
             "line": {
              "color": "white"
             }
            },
            "type": "table"
           }
          ]
         },
         "layout": {
          "annotationdefaults": {
           "arrowcolor": "#2a3f5f",
           "arrowhead": 0,
           "arrowwidth": 1
          },
          "autotypenumbers": "strict",
          "coloraxis": {
           "colorbar": {
            "outlinewidth": 0,
            "ticks": ""
           }
          },
          "colorscale": {
           "diverging": [
            [
             0,
             "#8e0152"
            ],
            [
             0.1,
             "#c51b7d"
            ],
            [
             0.2,
             "#de77ae"
            ],
            [
             0.3,
             "#f1b6da"
            ],
            [
             0.4,
             "#fde0ef"
            ],
            [
             0.5,
             "#f7f7f7"
            ],
            [
             0.6,
             "#e6f5d0"
            ],
            [
             0.7,
             "#b8e186"
            ],
            [
             0.8,
             "#7fbc41"
            ],
            [
             0.9,
             "#4d9221"
            ],
            [
             1,
             "#276419"
            ]
           ],
           "sequential": [
            [
             0,
             "#0d0887"
            ],
            [
             0.1111111111111111,
             "#46039f"
            ],
            [
             0.2222222222222222,
             "#7201a8"
            ],
            [
             0.3333333333333333,
             "#9c179e"
            ],
            [
             0.4444444444444444,
             "#bd3786"
            ],
            [
             0.5555555555555556,
             "#d8576b"
            ],
            [
             0.6666666666666666,
             "#ed7953"
            ],
            [
             0.7777777777777778,
             "#fb9f3a"
            ],
            [
             0.8888888888888888,
             "#fdca26"
            ],
            [
             1,
             "#f0f921"
            ]
           ],
           "sequentialminus": [
            [
             0,
             "#0d0887"
            ],
            [
             0.1111111111111111,
             "#46039f"
            ],
            [
             0.2222222222222222,
             "#7201a8"
            ],
            [
             0.3333333333333333,
             "#9c179e"
            ],
            [
             0.4444444444444444,
             "#bd3786"
            ],
            [
             0.5555555555555556,
             "#d8576b"
            ],
            [
             0.6666666666666666,
             "#ed7953"
            ],
            [
             0.7777777777777778,
             "#fb9f3a"
            ],
            [
             0.8888888888888888,
             "#fdca26"
            ],
            [
             1,
             "#f0f921"
            ]
           ]
          },
          "colorway": [
           "#636efa",
           "#EF553B",
           "#00cc96",
           "#ab63fa",
           "#FFA15A",
           "#19d3f3",
           "#FF6692",
           "#B6E880",
           "#FF97FF",
           "#FECB52"
          ],
          "font": {
           "color": "#2a3f5f"
          },
          "geo": {
           "bgcolor": "white",
           "lakecolor": "white",
           "landcolor": "#E5ECF6",
           "showlakes": true,
           "showland": true,
           "subunitcolor": "white"
          },
          "hoverlabel": {
           "align": "left"
          },
          "hovermode": "closest",
          "mapbox": {
           "style": "light"
          },
          "paper_bgcolor": "white",
          "plot_bgcolor": "#E5ECF6",
          "polar": {
           "angularaxis": {
            "gridcolor": "white",
            "linecolor": "white",
            "ticks": ""
           },
           "bgcolor": "#E5ECF6",
           "radialaxis": {
            "gridcolor": "white",
            "linecolor": "white",
            "ticks": ""
           }
          },
          "scene": {
           "xaxis": {
            "backgroundcolor": "#E5ECF6",
            "gridcolor": "white",
            "gridwidth": 2,
            "linecolor": "white",
            "showbackground": true,
            "ticks": "",
            "zerolinecolor": "white"
           },
           "yaxis": {
            "backgroundcolor": "#E5ECF6",
            "gridcolor": "white",
            "gridwidth": 2,
            "linecolor": "white",
            "showbackground": true,
            "ticks": "",
            "zerolinecolor": "white"
           },
           "zaxis": {
            "backgroundcolor": "#E5ECF6",
            "gridcolor": "white",
            "gridwidth": 2,
            "linecolor": "white",
            "showbackground": true,
            "ticks": "",
            "zerolinecolor": "white"
           }
          },
          "shapedefaults": {
           "line": {
            "color": "#2a3f5f"
           }
          },
          "ternary": {
           "aaxis": {
            "gridcolor": "white",
            "linecolor": "white",
            "ticks": ""
           },
           "baxis": {
            "gridcolor": "white",
            "linecolor": "white",
            "ticks": ""
           },
           "bgcolor": "#E5ECF6",
           "caxis": {
            "gridcolor": "white",
            "linecolor": "white",
            "ticks": ""
           }
          },
          "title": {
           "x": 0.05
          },
          "xaxis": {
           "automargin": true,
           "gridcolor": "white",
           "linecolor": "white",
           "ticks": "",
           "title": {
            "standoff": 15
           },
           "zerolinecolor": "white",
           "zerolinewidth": 2
          },
          "yaxis": {
           "automargin": true,
           "gridcolor": "white",
           "linecolor": "white",
           "ticks": "",
           "title": {
            "standoff": 15
           },
           "zerolinecolor": "white",
           "zerolinewidth": 2
          }
         }
        },
        "width": 1200
       }
      }
     },
     "metadata": {},
     "output_type": "display_data"
    }
   ],
   "source": [
    "# Human Fielf of Vision\n",
    "FOV_v = 60 # deg\n",
    "FOV_h = 120 # deg\n",
    "\n",
    "# Line of sight\n",
    "los_az = satellite_1['az'] # deg away from North (positive = look East)\n",
    "los_el = satellite_1['alt'] # deg above horizon\n",
    "\n",
    "# Calculate FOV boundaries\n",
    "x_min = -FOV_h/2 + los_az\n",
    "x_max = FOV_h/2 + los_az\n",
    "y_min = -FOV_v/2 + los_el\n",
    "y_max = FOV_v/2 + los_el\n",
    "\n",
    "scale_factor = 20\n",
    "\n",
    "# Create figure\n",
    "fig, ax = plt.subplots(figsize=(FOV_h/scale_factor, FOV_v/scale_factor))\n",
    "sns.despine()\n",
    "\n",
    "# Display horizon\n",
    "ax.hlines(0, x_min, x_max, colors='k', ls=':')\n",
    "\n",
    "# Display satellites\n",
    "x_pos = satellite_1['az']\n",
    "y_pos = satellite_1['alt']\n",
    "s_name = satellite_1['name']\n",
    "\n",
    "# Change color based on above/below horizon\n",
    "if y_pos <= 0:\n",
    "    color = '#a5a5a5'\n",
    "else:\n",
    "    color = '#00a8cc'\n",
    "\n",
    "ax.scatter(x=x_pos, y=y_pos, c=color)\n",
    "ax.annotate(s_name, [x_pos, y_pos], [x_pos+.5, y_pos], ha='left', va='bottom', fontsize=10)\n",
    "\n",
    "# Display compass\n",
    "ax.annotate('N', [0,y_min], ha='center', va='bottom', fontsize=14)\n",
    "ax.annotate('NE', [45,y_min], ha='center', va='bottom', fontsize=14)\n",
    "ax.annotate('E', [90,y_min], ha='center', va='bottom', fontsize=14)\n",
    "ax.annotate('SE', [135,y_min], ha='center', va='bottom', fontsize=14)\n",
    "ax.annotate('S', [180,y_min], ha='center', va='bottom', fontsize=14)\n",
    "ax.annotate('S', [-180,y_min], ha='center', va='bottom', fontsize=14)\n",
    "ax.annotate('SW', [-135,y_min], ha='center', va='bottom', fontsize=14)\n",
    "ax.annotate('W', [-90,y_min], ha='center', va='bottom', fontsize=14)\n",
    "ax.annotate('NW', [-45,y_min], ha='center', va='bottom', fontsize=14)\n",
    "ax.set_xticks(np.arange(-360,360,10))\n",
    "\n",
    "ax.text(x=x_min+1,y=y_max, s=f\"Time (UTC): {dt.strptime(nominal_time_str[:26], '%Y-%m-%dT%H:%M:%S.%f').date()} - {dt.strptime(nominal_time_str[:26], '%Y-%m-%dT%H:%M:%S.%f').time()}\")\n",
    "\n",
    "# Set field of view limits\n",
    "ax.set_xlim(x_min, x_max)\n",
    "ax.set_ylim(y_min, y_max)\n",
    "\n",
    "plt.show()\n",
    "\n",
    "\n",
    "\n",
    "# ==== WORLD MAP ==== \n",
    "\n",
    "px.scatter_mapbox(\n",
    "    obs_df,\n",
    "    lat = 'latitude',\n",
    "    lon = 'longitude',\n",
    "    center = {'lat': 0, 'lon':0},\n",
    "    mapbox_style='open-street-map',\n",
    "    zoom = 1.5,\n",
    ").update_layout(\n",
    "    mapbox=dict(\n",
    "        bearing=0,\n",
    "        center=dict(\n",
    "            lat=0,\n",
    "            lon=0\n",
    "        ),\n",
    "        pitch=0,\n",
    "        zoom=1.2,\n",
    "    ),\n",
    "    margin=dict(l=10, r=10, t=10, b=10),  # Sets the margins to 0 pixels\n",
    "    \n",
    "    width=1200,  # Adjust width as necessary\n",
    "    height=600  # Adjust height as necessary\n",
    ")"
   ]
  }
 ],
 "metadata": {
  "kernelspec": {
   "display_name": "dev",
   "language": "python",
   "name": "python3"
  },
  "language_info": {
   "codemirror_mode": {
    "name": "ipython",
    "version": 3
   },
   "file_extension": ".py",
   "mimetype": "text/x-python",
   "name": "python",
   "nbconvert_exporter": "python",
   "pygments_lexer": "ipython3",
   "version": "3.10.13"
  }
 },
 "nbformat": 4,
 "nbformat_minor": 2
}
