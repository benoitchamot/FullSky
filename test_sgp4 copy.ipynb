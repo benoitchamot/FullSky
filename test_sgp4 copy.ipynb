{
 "cells": [
  {
   "cell_type": "markdown",
   "metadata": {},
   "source": [
    "# Examples with SGP4 library\n",
    "Source: https://pypi.org/project/sgp4/ <br/>\n",
    "Source: https://docs.astropy.org/en/stable/coordinates/satellites.html\n",
    "\n",
    "Installation: `pip install sgp4`"
   ]
  },
  {
   "cell_type": "code",
   "execution_count": 13,
   "metadata": {},
   "outputs": [
    {
     "name": "stdout",
     "output_type": "stream",
     "text": [
      "True\n"
     ]
    }
   ],
   "source": [
    "from sgp4.api import accelerated\n",
    "print(accelerated)"
   ]
  },
  {
   "cell_type": "code",
   "execution_count": null,
   "metadata": {},
   "outputs": [],
   "source": []
  },
  {
   "cell_type": "code",
   "execution_count": 2,
   "metadata": {},
   "outputs": [],
   "source": [
    "from sgp4.api import Satrec\n",
    "\n",
    "s = '1 25544U 98067A   19343.69339541  .00001764  00000-0  38792-4 0  9991'\n",
    "t = '2 25544  51.6439 211.2001 0007417  17.6667  85.6398 15.50103472202482'\n",
    "satellite = Satrec.twoline2rv(s, t)"
   ]
  },
  {
   "cell_type": "code",
   "execution_count": 3,
   "metadata": {},
   "outputs": [
    {
     "name": "stdout",
     "output_type": "stream",
     "text": [
      "\n",
      "# -------- Identification --------\n",
      "satnum_str = '25544'\n",
      "satnum = 25544\n",
      "classification = 'U'\n",
      "ephtype = 0\n",
      "elnum = 999\n",
      "revnum = 20248\n",
      "\n",
      "# -------- Orbital Elements --------\n",
      "epochyr = 19\n",
      "epochdays = 343.69339541\n",
      "ndot = 5.3450708342326346e-11\n",
      "nddot = 0.0\n",
      "bstar = 3.8792e-05\n",
      "inclo = 0.9013560935706996\n",
      "nodeo = 3.686137125541276\n",
      "ecco = 0.0007417\n",
      "argpo = 0.3083420829620822\n",
      "mo = 1.4946964807494398\n",
      "no_kozai = 0.06763602333248933\n",
      "no = 0.06763602333248933\n",
      "jdsatepoch = 2458826.5\n",
      "jdsatepochF = 0.69339541\n",
      "\n",
      "# -------- Computed Orbit Properties --------\n",
      "a = 1.0653687733324535\n",
      "altp = 0.06457858931327287\n",
      "alta = 0.06615895735163435\n",
      "argpdot = 4.468651165400969e-05\n",
      "gsto = 5.720451405425919\n",
      "mdot = 0.06763603112092395\n",
      "nodedot = -6.007625962184691e-05\n",
      "\n",
      "# -------- Propagator Mode --------\n",
      "operationmode = 'i'\n",
      "method = 'n'\n",
      "\n",
      "# -------- Result of Most Recent Propagation --------\n",
      "t = 0.0\n",
      "error = 0\n",
      "\n",
      "# -------- Mean Elements From Most Recent Propagation --------\n",
      "am = 1.0653687733324535\n",
      "em = 0.0007417\n",
      "im = 0.9013560935706996\n",
      "\n",
      "# -------- Om --------\n",
      "om = 0.3083420829620822\n",
      "mm = 1.49469648074944\n",
      "nm = 0.06762851133317717\n",
      "\n",
      "# -------- Gravity Model Parameters --------\n",
      "tumin = 13.446839696959309\n",
      "xke = 0.07436691613317342\n",
      "mu = 398600.8\n",
      "radiusearthkm = 6378.135\n",
      "j2 = 0.001082616\n",
      "j3 = -2.53881e-06\n",
      "j4 = -1.65597e-06\n",
      "j3oj2 = -0.002345069720011528\n"
     ]
    }
   ],
   "source": [
    "from sys import stdout\n",
    "from sgp4.conveniences import dump_satrec\n",
    "\n",
    "stdout.writelines(dump_satrec(satellite))"
   ]
  },
  {
   "cell_type": "code",
   "execution_count": 4,
   "metadata": {},
   "outputs": [
    {
     "data": {
      "text/plain": [
       "<sgp4.wrapper.Satrec at 0x179c09448e0>"
      ]
     },
     "execution_count": 4,
     "metadata": {},
     "output_type": "execute_result"
    }
   ],
   "source": [
    "satellite"
   ]
  },
  {
   "cell_type": "code",
   "execution_count": 5,
   "metadata": {},
   "outputs": [
    {
     "data": {
      "text/plain": [
       "0"
      ]
     },
     "execution_count": 5,
     "metadata": {},
     "output_type": "execute_result"
    }
   ],
   "source": [
    "# Convert datetime to JD\n",
    "from astropy.time import Time\n",
    "t = Time('2018-12-09T00:00:00.123456789', format='isot', scale='utc')\n",
    "\n",
    "e, teme_p, teme_v = satellite.sgp4(t.jd1, t.jd2) # non-zero error code if the satellite position could not be computed for the given date.\n",
    "e"
   ]
  },
  {
   "cell_type": "code",
   "execution_count": 6,
   "metadata": {},
   "outputs": [
    {
     "data": {
      "text/plain": [
       "{1: 'mean eccentricity is outside the range 0.0 to 1.0',\n",
       " 2: 'nm is less than zero',\n",
       " 3: 'perturbed eccentricity is outside the range 0.0 to 1.0',\n",
       " 4: 'semilatus rectum is less than zero',\n",
       " 5: '(error 5 no longer in use; it meant the satellite was underground)',\n",
       " 6: 'mrt is less than 1.0 which indicates the satellite has decayed'}"
      ]
     },
     "execution_count": 6,
     "metadata": {},
     "output_type": "execute_result"
    }
   ],
   "source": [
    "# Analyse error codes\n",
    "from sgp4.api import SGP4_ERRORS\n",
    "SGP4_ERRORS"
   ]
  },
  {
   "cell_type": "code",
   "execution_count": 7,
   "metadata": {},
   "outputs": [
    {
     "name": "stdout",
     "output_type": "stream",
     "text": [
      "Position [True Equator Mean Equinox]: (-6102.443276428913, -986.3320160861297, -2820.3130707199225) (km)\n",
      "Velocity [True Equator Mean Equinox]: (-1.4552527284474308, -5.527413835655969, 5.101042029427083) (km/s)\n"
     ]
    }
   ],
   "source": [
    "from astropy.coordinates import TEME, ITRS, CartesianDifferential, CartesianRepresentation\n",
    "from astropy import units as u\n",
    "from astropy.time import Time\n",
    "from sgp4.api import Satrec\n",
    "\n",
    "# Manually create TLE\n",
    "s = '1 25544U 98067A   19343.69339541  .00001764  00000-0  38792-4 0  9991'\n",
    "t = '2 25544  51.6439 211.2001 0007417  17.6667  85.6398 15.50103472202482'\n",
    "satellite = Satrec.twoline2rv(s, t)\n",
    "\n",
    "# Manually provide JD\n",
    "t = Time(2458827.362605, format='jd')\n",
    "\n",
    "# Calculate position and velocity with sgp4\n",
    "error_code, teme_p, teme_v = satellite.sgp4(t.jd1, t.jd2) # non-zero error code if the satellite position could not be computed for the given date.\n",
    "\n",
    "# teme_p measures the satellite position in kilometers from the center of the earth in the\n",
    "# idiosyncratic True Equator Mean Equinox coordinate frame used by SGP4.\n",
    "print(f\"Position [True Equator Mean Equinox]: {teme_p} (km)\")\n",
    "\n",
    "# teme_v velocity is the rate at which the position is changing, expressed in kilometers\n",
    "# per second.\n",
    "print(f\"Velocity [True Equator Mean Equinox]: {teme_v} (km/s)\")\n",
    "\n",
    "# Convert from TEME to Other Coordinate Systems\n",
    "teme_p = CartesianRepresentation(teme_p*u.km)\n",
    "teme_v = CartesianDifferential(teme_v*u.km/u.s)\n",
    "\n",
    "# Note how we are careful to set the observed time of the TEME\n",
    "# frame to the time at which we calculated satellite position.\n",
    "teme = TEME(teme_p.with_differentials(teme_v), obstime=t)"
   ]
  },
  {
   "cell_type": "code",
   "execution_count": 8,
   "metadata": {},
   "outputs": [
    {
     "data": {
      "text/plain": [
       "<TEME Coordinate (obstime=2458827.362605): (x, y, z) in km\n",
       "    (-6102.44327643, -986.33201609, -2820.31307072)\n",
       " (v_x, v_y, v_z) in km / s\n",
       "    (-1.45525273, -5.52741384, 5.10104203)>"
      ]
     },
     "execution_count": 8,
     "metadata": {},
     "output_type": "execute_result"
    }
   ],
   "source": [
    "teme"
   ]
  },
  {
   "cell_type": "code",
   "execution_count": 9,
   "metadata": {},
   "outputs": [
    {
     "data": {
      "text/plain": [
       "GeodeticLocation(lon=<Longitude 160.34199791 deg>, lat=<Latitude -24.66093788 deg>, height=<Quantity 420.1792759 km>)"
      ]
     },
     "execution_count": 9,
     "metadata": {},
     "output_type": "execute_result"
    }
   ],
   "source": [
    "# to find the overhead latitude, longitude, and height of the satellite:\n",
    "itrs_geo = teme.transform_to(ITRS(obstime=t))\n",
    "itrs_geo = teme.transform_to(ITRS(obstime=t))\n",
    "location = itrs_geo.earth_location\n",
    "location.geodetic"
   ]
  },
  {
   "cell_type": "code",
   "execution_count": 10,
   "metadata": {},
   "outputs": [
    {
     "name": "stdout",
     "output_type": "stream",
     "text": [
      "1.7844267538836551 49.01192169515282\n"
     ]
    }
   ],
   "source": [
    "# to find the altitude and azimuth of the satellite from a particular location\n",
    "from astropy.coordinates import EarthLocation, AltAz\n",
    "siding_spring = EarthLocation.of_address('4 Ormond Road, Ormond, Vic 3204, Australia')\n",
    "topo_itrs_repr = itrs_geo.cartesian.without_differentials() - siding_spring.get_itrs(t).cartesian\n",
    "itrs_topo = ITRS(topo_itrs_repr, obstime = t, location=siding_spring)\n",
    "aa = itrs_topo.transform_to(AltAz(obstime=t, location=siding_spring))\n",
    "print(aa.alt.deg, aa.az.deg)  "
   ]
  },
  {
   "cell_type": "code",
   "execution_count": 11,
   "metadata": {},
   "outputs": [
    {
     "data": {
      "text/plain": [
       "{'name': 'SAT-1', 'alt': 1.7844267538836551, 'az': 49.01192169515282}"
      ]
     },
     "execution_count": 11,
     "metadata": {},
     "output_type": "execute_result"
    }
   ],
   "source": [
    "satellite_1 = {\n",
    "    'name': 'SAT-1',\n",
    "    'alt': aa.alt.deg,\n",
    "    'az': aa.az.deg\n",
    "}\n",
    "\n",
    "satellite_1"
   ]
  },
  {
   "cell_type": "code",
   "execution_count": 12,
   "metadata": {},
   "outputs": [
    {
     "data": {
      "image/png": "[encoded data removed]",
      "text/plain": [
       "<Figure size 1500x750 with 1 Axes>"
      ]
     },
     "metadata": {},
     "output_type": "display_data"
    }
   ],
   "source": [
    "import matplotlib.pyplot as plt\n",
    "import seaborn as sns\n",
    "import numpy as np\n",
    "\n",
    "# Human Fielf of Vision\n",
    "FOV_v = 60 # deg\n",
    "FOV_h = 120 # deg\n",
    "\n",
    "# Line of sight\n",
    "los_az = 30 # deg away from North (positive = look East)\n",
    "los_el = 20 # deg above horizon\n",
    "\n",
    "# Calculate FOV boundaries\n",
    "x_min = -FOV_h/2 + los_az\n",
    "x_max = FOV_h/2 + los_az\n",
    "y_min = -FOV_v/2 + los_el\n",
    "y_max = FOV_v/2 + los_el\n",
    "\n",
    "scale_factor = 8\n",
    "\n",
    "# Create figure\n",
    "fig, ax = plt.subplots(figsize=(FOV_h/scale_factor, FOV_v/scale_factor))\n",
    "sns.despine()\n",
    "\n",
    "# Display horizon\n",
    "ax.hlines(0, x_min, x_max, colors='k', ls=':')\n",
    "\n",
    "# Display satellites\n",
    "x_pos = satellite_1['az']\n",
    "y_pos = satellite_1['alt']\n",
    "s_name = satellite_1['name']\n",
    "ax.scatter(x=x_pos, y=y_pos)\n",
    "ax.annotate(s_name, [x_pos, y_pos], [x_pos+.5, y_pos], ha='left', va='bottom', fontsize=10)\n",
    "\n",
    "# Display compass\n",
    "ax.annotate('N', [0,y_min], ha='center', va='bottom', fontsize=14)\n",
    "ax.annotate('NE', [45,y_min], ha='center', va='bottom', fontsize=14)\n",
    "ax.annotate('E', [90,y_min], ha='center', va='bottom', fontsize=14)\n",
    "ax.annotate('SE', [135,y_min], ha='center', va='bottom', fontsize=14)\n",
    "ax.annotate('S', [180,y_min], ha='center', va='bottom', fontsize=14)\n",
    "ax.annotate('S', [-180,y_min], ha='center', va='bottom', fontsize=14)\n",
    "ax.annotate('SW', [-135,y_min], ha='center', va='bottom', fontsize=14)\n",
    "ax.annotate('W', [-90,y_min], ha='center', va='bottom', fontsize=14)\n",
    "ax.annotate('NW', [-45,y_min], ha='center', va='bottom', fontsize=14)\n",
    "ax.set_xticks(np.arange(-360,360,10))\n",
    "\n",
    "# Set field of view limits\n",
    "ax.set_xlim(x_min, x_max)\n",
    "ax.set_ylim(y_min, y_max)\n",
    "\n",
    "plt.show()"
   ]
  }
 ],
 "metadata": {
  "kernelspec": {
   "display_name": "dev",
   "language": "python",
   "name": "python3"
  },
  "language_info": {
   "codemirror_mode": {
    "name": "ipython",
    "version": 3
   },
   "file_extension": ".py",
   "mimetype": "text/x-python",
   "name": "python",
   "nbconvert_exporter": "python",
   "pygments_lexer": "ipython3",
   "version": "3.10.13"
  }
 },
 "nbformat": 4,
 "nbformat_minor": 2
}
